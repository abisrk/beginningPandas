{
  "nbformat": 4,
  "nbformat_minor": 0,
  "metadata": {
    "colab": {
      "name": "beginningPandas.ipynb",
      "provenance": [],
      "toc_visible": true,
      "collapsed_sections": [],
      "authorship_tag": "ABX9TyP0kjByMVpw2gGU39Fx25tS",
      "include_colab_link": true
    },
    "kernelspec": {
      "name": "python3",
      "display_name": "Python 3"
    },
    "language_info": {
      "name": "python"
    }
  },
  "cells": [
    {
      "cell_type": "markdown",
      "metadata": {
        "id": "view-in-github",
        "colab_type": "text"
      },
      "source": [
        "<a href=\"https://colab.research.google.com/github/abisrk/beginningPandas/blob/main/beginningPandas.ipynb\" target=\"_parent\"><img src=\"https://colab.research.google.com/assets/colab-badge.svg\" alt=\"Open In Colab\"/></a>"
      ]
    },
    {
      "cell_type": "markdown",
      "source": [
        "# Python List\n"
      ],
      "metadata": {
        "id": "MjqHK5cPSYnA"
      }
    },
    {
      "cell_type": "code",
      "execution_count": 20,
      "metadata": {
        "colab": {
          "base_uri": "https://localhost:8080/"
        },
        "id": "LT21rT8NuQ8y",
        "outputId": "9868fc2d-f74c-4fd4-84ed-59c77b1537b2"
      },
      "outputs": [
        {
          "output_type": "execute_result",
          "data": {
            "text/plain": [
              "[57, 63, 95, 88]"
            ]
          },
          "metadata": {},
          "execution_count": 20
        }
      ],
      "source": [
        "temp = [33,42,57,63,95,88]\n",
        "[x for x in temp if x > 50]\n"
      ]
    },
    {
      "cell_type": "markdown",
      "source": [
        "# Pandas Series"
      ],
      "metadata": {
        "id": "kNrX-VZKSdHG"
      }
    },
    {
      "cell_type": "code",
      "source": [
        "import pandas as pd\n",
        "\n",
        "tempSer = pd.Series(temp,name='Temperature',index=['S','M','T','W','Th','F'])\n",
        "tempSer"
      ],
      "metadata": {
        "id": "2huMjDSMz1pP",
        "colab": {
          "base_uri": "https://localhost:8080/"
        },
        "outputId": "68775760-d8f6-429d-b758-f97f4278d1aa"
      },
      "execution_count": 23,
      "outputs": [
        {
          "output_type": "execute_result",
          "data": {
            "text/plain": [
              "S     33\n",
              "M     42\n",
              "T     57\n",
              "W     63\n",
              "Th    95\n",
              "F     88\n",
              "Name: Temperature, dtype: int64"
            ]
          },
          "metadata": {},
          "execution_count": 23
        }
      ]
    },
    {
      "cell_type": "code",
      "source": [
        "print(tempSer[tempSer > 50])\n",
        "print(tempSer[(tempSer > 55) & (tempSer < 80)])"
      ],
      "metadata": {
        "id": "X5nWE-K1z-7n",
        "colab": {
          "base_uri": "https://localhost:8080/"
        },
        "outputId": "69d1cb55-1a5c-4421-ea2c-cdf07444027a"
      },
      "execution_count": 137,
      "outputs": [
        {
          "output_type": "stream",
          "name": "stdout",
          "text": [
            "T     57\n",
            "W     63\n",
            "Th    95\n",
            "F     88\n",
            "Name: Temperature, dtype: int64\n",
            "T    57\n",
            "W    63\n",
            "Name: Temperature, dtype: int64\n"
          ]
        }
      ]
    },
    {
      "cell_type": "markdown",
      "source": [
        "# loc, iloc"
      ],
      "metadata": {
        "id": "PLWpwI1PNtGG"
      }
    },
    {
      "cell_type": "code",
      "source": [
        "print(tempSer['M'])\n",
        "print(tempSer.loc['M'])\n",
        "print(tempSer.iloc[1])\n",
        "print(tempSer.iloc[-2])"
      ],
      "metadata": {
        "colab": {
          "base_uri": "https://localhost:8080/"
        },
        "id": "D85O3_9_IZik",
        "outputId": "cb7758c3-891d-49a2-a591-623caa8021e4"
      },
      "execution_count": 29,
      "outputs": [
        {
          "output_type": "stream",
          "name": "stdout",
          "text": [
            "42\n",
            "42\n",
            "42\n",
            "95\n"
          ]
        }
      ]
    },
    {
      "cell_type": "code",
      "source": [
        "tempSer2 = pd.Series(temp,name='Temperature',index=['S','M','T','W','Th','F'])\n",
        "tempSer2.index"
      ],
      "metadata": {
        "colab": {
          "base_uri": "https://localhost:8080/"
        },
        "id": "IPiK0lC5Jd17",
        "outputId": "e7f2e44a-817b-4622-fb90-d84a1a99149f"
      },
      "execution_count": 32,
      "outputs": [
        {
          "output_type": "execute_result",
          "data": {
            "text/plain": [
              "Index(['S', 'M', 'T', 'W', 'Th', 'F'], dtype='object')"
            ]
          },
          "metadata": {},
          "execution_count": 32
        }
      ]
    },
    {
      "cell_type": "markdown",
      "source": [
        "# pd.date_range"
      ],
      "metadata": {
        "id": "5c11NWsHNjTU"
      }
    },
    {
      "cell_type": "code",
      "source": [
        "dates = pd.date_range(start='2021',periods=6,freq='Y',normalize=True)\n",
        "tempSer3 = pd.Series(temp,name='Temperature',index=dates)\n",
        "tempSer3"
      ],
      "metadata": {
        "colab": {
          "base_uri": "https://localhost:8080/"
        },
        "id": "GonJKjvuLHj4",
        "outputId": "d5f8b6ac-226d-4e79-a1cc-815a66470d82"
      },
      "execution_count": 61,
      "outputs": [
        {
          "output_type": "execute_result",
          "data": {
            "text/plain": [
              "2021-12-31    33\n",
              "2022-12-31    42\n",
              "2023-12-31    57\n",
              "2024-12-31    63\n",
              "2025-12-31    95\n",
              "2026-12-31    88\n",
              "Freq: A-DEC, Name: Temperature, dtype: int64"
            ]
          },
          "metadata": {},
          "execution_count": 61
        }
      ]
    },
    {
      "cell_type": "code",
      "source": [
        "tempSer3.index"
      ],
      "metadata": {
        "colab": {
          "base_uri": "https://localhost:8080/"
        },
        "id": "wMmdtvxrLQmv",
        "outputId": "bcaa3f2f-8cb6-486a-81bd-2869411db72d"
      },
      "execution_count": 62,
      "outputs": [
        {
          "output_type": "execute_result",
          "data": {
            "text/plain": [
              "DatetimeIndex(['2021-12-31', '2022-12-31', '2023-12-31', '2024-12-31',\n",
              "               '2025-12-31', '2026-12-31'],\n",
              "              dtype='datetime64[ns]', freq='A-DEC')"
            ]
          },
          "metadata": {},
          "execution_count": 62
        }
      ]
    },
    {
      "cell_type": "code",
      "source": [
        "tempSer3.dtype"
      ],
      "metadata": {
        "colab": {
          "base_uri": "https://localhost:8080/"
        },
        "id": "eUwg4pAkMjGk",
        "outputId": "7e743d97-34ef-4cb9-a762-88fca7213e74"
      },
      "execution_count": 63,
      "outputs": [
        {
          "output_type": "execute_result",
          "data": {
            "text/plain": [
              "dtype('int64')"
            ]
          },
          "metadata": {},
          "execution_count": 63
        }
      ]
    },
    {
      "cell_type": "markdown",
      "source": [
        "# Pandas datatypes\n"
      ],
      "metadata": {
        "id": "d0EkStAuNW-U"
      }
    },
    {
      "cell_type": "code",
      "source": [
        "tempSer1 = pd.Series(range(5))\n",
        "tempSer1"
      ],
      "metadata": {
        "colab": {
          "base_uri": "https://localhost:8080/"
        },
        "id": "P9uVzIYbMXtO",
        "outputId": "db492c51-4f11-4210-cf5b-cc0e9a04d638"
      },
      "execution_count": 42,
      "outputs": [
        {
          "output_type": "execute_result",
          "data": {
            "text/plain": [
              "0    0\n",
              "1    1\n",
              "2    2\n",
              "3    3\n",
              "4    4\n",
              "dtype: int64"
            ]
          },
          "metadata": {},
          "execution_count": 42
        }
      ]
    },
    {
      "cell_type": "code",
      "source": [
        "tempSer2 = pd.Series([1.1,2,3,4,5])\n",
        "tempSer2"
      ],
      "metadata": {
        "colab": {
          "base_uri": "https://localhost:8080/"
        },
        "id": "hiDXcENiNIwM",
        "outputId": "8a5b2fc7-a266-4fa4-cac0-763eed4f5d5b"
      },
      "execution_count": 93,
      "outputs": [
        {
          "output_type": "execute_result",
          "data": {
            "text/plain": [
              "0    1.1\n",
              "1    2.0\n",
              "2    3.0\n",
              "3    4.0\n",
              "4    5.0\n",
              "dtype: float64"
            ]
          },
          "metadata": {},
          "execution_count": 93
        }
      ]
    },
    {
      "cell_type": "markdown",
      "source": [
        "# Category data type\n"
      ],
      "metadata": {
        "id": "kxM98hxgOL-1"
      }
    },
    {
      "cell_type": "code",
      "source": [
        "alist = ['ford','accord','chevy','ford','prius']\n",
        "tempSer3 = pd.Series(alist,dtype='category')\n",
        "tempSer3"
      ],
      "metadata": {
        "colab": {
          "base_uri": "https://localhost:8080/"
        },
        "id": "GQnQ_AU9NPLU",
        "outputId": "1ebbea86-fe16-4b3d-d2f5-6627e9ac81a8"
      },
      "execution_count": 94,
      "outputs": [
        {
          "output_type": "execute_result",
          "data": {
            "text/plain": [
              "0      ford\n",
              "1    accord\n",
              "2     chevy\n",
              "3      ford\n",
              "4     prius\n",
              "dtype: category\n",
              "Categories (4, object): ['accord', 'chevy', 'ford', 'prius']"
            ]
          },
          "metadata": {},
          "execution_count": 94
        }
      ]
    },
    {
      "cell_type": "code",
      "source": [
        "tempSer3.index"
      ],
      "metadata": {
        "colab": {
          "base_uri": "https://localhost:8080/"
        },
        "id": "TY5LCbVGOQ37",
        "outputId": "abf04204-625e-4803-b429-3421886a66ee"
      },
      "execution_count": 66,
      "outputs": [
        {
          "output_type": "execute_result",
          "data": {
            "text/plain": [
              "RangeIndex(start=0, stop=5, step=1)"
            ]
          },
          "metadata": {},
          "execution_count": 66
        }
      ]
    },
    {
      "cell_type": "code",
      "source": [
        "tempSer3.values"
      ],
      "metadata": {
        "colab": {
          "base_uri": "https://localhost:8080/"
        },
        "id": "RgQTILzrOa7j",
        "outputId": "5ee17b45-534a-4de7-bfa6-4fe5dd07cd04"
      },
      "execution_count": 67,
      "outputs": [
        {
          "output_type": "execute_result",
          "data": {
            "text/plain": [
              "['ford', 'accord', 'chevy', 'ford', 'prius']\n",
              "Categories (4, object): ['accord', 'chevy', 'ford', 'prius']"
            ]
          },
          "metadata": {},
          "execution_count": 67
        }
      ]
    },
    {
      "cell_type": "markdown",
      "source": [
        "# CRUD\n"
      ],
      "metadata": {
        "id": "Sysj8h0rPqNJ"
      }
    },
    {
      "cell_type": "code",
      "source": [
        "tempSer4 = tempSer3.append(pd.Series(['tesla']))  # Add\n",
        "tempSer4"
      ],
      "metadata": {
        "colab": {
          "base_uri": "https://localhost:8080/"
        },
        "id": "K--HmVyKPtsu",
        "outputId": "7e1df08d-a507-4e10-f128-6bc7873a3c41"
      },
      "execution_count": 103,
      "outputs": [
        {
          "output_type": "execute_result",
          "data": {
            "text/plain": [
              "0      ford\n",
              "1    accord\n",
              "2     chevy\n",
              "3      ford\n",
              "4     prius\n",
              "0     tesla\n",
              "dtype: object"
            ]
          },
          "metadata": {},
          "execution_count": 103
        }
      ]
    },
    {
      "cell_type": "code",
      "source": [
        "tempSer4[2] = 'ford'  # update\n",
        "tempSer4"
      ],
      "metadata": {
        "colab": {
          "base_uri": "https://localhost:8080/"
        },
        "id": "GQFqEMfRTusC",
        "outputId": "5538f311-f34b-4849-9436-ce66234b6e16"
      },
      "execution_count": 92,
      "outputs": [
        {
          "output_type": "execute_result",
          "data": {
            "text/plain": [
              "0      ford\n",
              "1    accord\n",
              "2      ford\n",
              "3      ford\n",
              "4     prius\n",
              "0     tesla\n",
              "dtype: object"
            ]
          },
          "metadata": {},
          "execution_count": 92
        }
      ]
    },
    {
      "cell_type": "code",
      "source": [
        "tempSer4 = tempSer4.astype('category')\n",
        "tempSer4"
      ],
      "metadata": {
        "colab": {
          "base_uri": "https://localhost:8080/"
        },
        "id": "RB6FHm-SUNcO",
        "outputId": "0c1226cc-0dc6-49f9-ed15-a76e7b577a27"
      },
      "execution_count": 117,
      "outputs": [
        {
          "output_type": "execute_result",
          "data": {
            "text/plain": [
              "0      ford\n",
              "1    accord\n",
              "2     chevy\n",
              "0     tesla\n",
              "dtype: category\n",
              "Categories (4, object): ['accord', 'chevy', 'ford', 'tesla']"
            ]
          },
          "metadata": {},
          "execution_count": 117
        }
      ]
    },
    {
      "cell_type": "code",
      "source": [
        "tempSer2 * 2 # update"
      ],
      "metadata": {
        "colab": {
          "base_uri": "https://localhost:8080/"
        },
        "id": "mX5AL0p9QacX",
        "outputId": "112a0646-fc5c-4cba-c803-76f58e1a8c2e"
      },
      "execution_count": 108,
      "outputs": [
        {
          "output_type": "execute_result",
          "data": {
            "text/plain": [
              "0     2.2\n",
              "1     4.0\n",
              "2     6.0\n",
              "3     8.0\n",
              "4    10.0\n",
              "dtype: float64"
            ]
          },
          "metadata": {},
          "execution_count": 108
        }
      ]
    },
    {
      "cell_type": "code",
      "source": [
        "tempSer4.pop(3)"
      ],
      "metadata": {
        "colab": {
          "base_uri": "https://localhost:8080/",
          "height": 36
        },
        "id": "Vn2Ti3YUQaOC",
        "outputId": "8032393e-64b4-463b-954d-7a3113df07db"
      },
      "execution_count": 114,
      "outputs": [
        {
          "output_type": "execute_result",
          "data": {
            "application/vnd.google.colaboratory.intrinsic+json": {
              "type": "string"
            },
            "text/plain": [
              "'ford'"
            ]
          },
          "metadata": {},
          "execution_count": 114
        }
      ]
    },
    {
      "cell_type": "code",
      "source": [
        "tempSer4"
      ],
      "metadata": {
        "colab": {
          "base_uri": "https://localhost:8080/"
        },
        "id": "zTYYD_m0QZ6c",
        "outputId": "a7ce1a5d-67c3-4fc8-abc3-45feba7cba30"
      },
      "execution_count": 118,
      "outputs": [
        {
          "output_type": "execute_result",
          "data": {
            "text/plain": [
              "0      ford\n",
              "1    accord\n",
              "2     chevy\n",
              "0     tesla\n",
              "dtype: category\n",
              "Categories (4, object): ['accord', 'chevy', 'ford', 'tesla']"
            ]
          },
          "metadata": {},
          "execution_count": 118
        }
      ]
    },
    {
      "cell_type": "markdown",
      "source": [
        "# Iteration\n"
      ],
      "metadata": {
        "id": "KV38LJlQQ2xB"
      }
    },
    {
      "cell_type": "code",
      "source": [
        "temp1 = [30,45,60,90]\n",
        "ser1 = pd.Series(temp1)\n",
        "ser1"
      ],
      "metadata": {
        "colab": {
          "base_uri": "https://localhost:8080/"
        },
        "id": "s53ratSjQ5Vz",
        "outputId": "1297b9d4-aa09-4ae9-970e-6609a3d73a81"
      },
      "execution_count": 77,
      "outputs": [
        {
          "output_type": "execute_result",
          "data": {
            "text/plain": [
              "0    30\n",
              "1    45\n",
              "2    60\n",
              "3    90\n",
              "dtype: int64"
            ]
          },
          "metadata": {},
          "execution_count": 77
        }
      ]
    },
    {
      "cell_type": "code",
      "source": [
        "for n in ser1:\n",
        "    print(n)"
      ],
      "metadata": {
        "colab": {
          "base_uri": "https://localhost:8080/"
        },
        "id": "kIBFxdJnRDKf",
        "outputId": "14d3e18c-942a-4a26-f5e7-7323514f83e3"
      },
      "execution_count": 78,
      "outputs": [
        {
          "output_type": "stream",
          "name": "stdout",
          "text": [
            "30\n",
            "45\n",
            "60\n",
            "90\n"
          ]
        }
      ]
    },
    {
      "cell_type": "code",
      "source": [
        "for ind , val in ser1.items():\n",
        "    print(f\"Index : {ind}, Value : {val}\")"
      ],
      "metadata": {
        "colab": {
          "base_uri": "https://localhost:8080/"
        },
        "id": "wkRTifG8RnpC",
        "outputId": "1247ae81-4012-4b4c-a9e0-4d3449dfe17e"
      },
      "execution_count": 87,
      "outputs": [
        {
          "output_type": "stream",
          "name": "stdout",
          "text": [
            "Index : 0, Value : 30\n",
            "Index : 1, Value : 45\n",
            "Index : 2, Value : 60\n",
            "Index : 3, Value : 90\n"
          ]
        }
      ]
    },
    {
      "cell_type": "markdown",
      "source": [
        "# contains"
      ],
      "metadata": {
        "id": "rEnXoIw3RQEL"
      }
    },
    {
      "cell_type": "code",
      "source": [
        "45 in ser1  # looks in indexes. so false."
      ],
      "metadata": {
        "colab": {
          "base_uri": "https://localhost:8080/"
        },
        "id": "y6cvzB8ZRTUA",
        "outputId": "1b12e0f6-d70f-4ad4-c89b-9ded6b2a460e"
      },
      "execution_count": 79,
      "outputs": [
        {
          "output_type": "execute_result",
          "data": {
            "text/plain": [
              "False"
            ]
          },
          "metadata": {},
          "execution_count": 79
        }
      ]
    },
    {
      "cell_type": "code",
      "source": [
        "45 in ser1.values # look for value"
      ],
      "metadata": {
        "colab": {
          "base_uri": "https://localhost:8080/"
        },
        "id": "NNQmmbsURW0W",
        "outputId": "5d97705c-0795-43ea-bbde-7ad5c7bd59c1"
      },
      "execution_count": 80,
      "outputs": [
        {
          "output_type": "execute_result",
          "data": {
            "text/plain": [
              "True"
            ]
          },
          "metadata": {},
          "execution_count": 80
        }
      ]
    },
    {
      "cell_type": "code",
      "source": [
        "99 in ser1.values"
      ],
      "metadata": {
        "colab": {
          "base_uri": "https://localhost:8080/"
        },
        "id": "M7I4167RRZlg",
        "outputId": "5cde9888-e16f-49a8-b7e4-5ee547eaa545"
      },
      "execution_count": 81,
      "outputs": [
        {
          "output_type": "execute_result",
          "data": {
            "text/plain": [
              "False"
            ]
          },
          "metadata": {},
          "execution_count": 81
        }
      ]
    },
    {
      "cell_type": "markdown",
      "source": [
        "# Broadcasting\n"
      ],
      "metadata": {
        "id": "mQiqJDs2Rhym"
      }
    },
    {
      "cell_type": "code",
      "source": [
        "temp2 = [30,45,60,90]\n",
        "ser2 = pd.Series(temp2)\n",
        "ser2"
      ],
      "metadata": {
        "colab": {
          "base_uri": "https://localhost:8080/"
        },
        "id": "vuLfWVLnSxSM",
        "outputId": "42c45fef-6bfa-4daf-8501-6bf6b347056f"
      },
      "execution_count": 89,
      "outputs": [
        {
          "output_type": "execute_result",
          "data": {
            "text/plain": [
              "0    30\n",
              "1    45\n",
              "2    60\n",
              "3    90\n",
              "dtype: int64"
            ]
          },
          "metadata": {},
          "execution_count": 89
        }
      ]
    },
    {
      "cell_type": "code",
      "source": [
        "ser1.astype(float)"
      ],
      "metadata": {
        "colab": {
          "base_uri": "https://localhost:8080/"
        },
        "id": "qTXlYW1xTDJ6",
        "outputId": "a88f72e5-e0de-462b-ee6d-390e8d425003"
      },
      "execution_count": 90,
      "outputs": [
        {
          "output_type": "execute_result",
          "data": {
            "text/plain": [
              "0    30.0\n",
              "1    45.0\n",
              "2    60.0\n",
              "3    90.0\n",
              "dtype: float64"
            ]
          },
          "metadata": {},
          "execution_count": 90
        }
      ]
    },
    {
      "cell_type": "markdown",
      "source": [
        "# statistics\n"
      ],
      "metadata": {
        "id": "ogb_499IWYSp"
      }
    },
    {
      "cell_type": "code",
      "source": [
        "temp1 = [30,45,60,90]\n",
        "ser1 = pd.Series(temp1)\n",
        "ser1.mean()"
      ],
      "metadata": {
        "colab": {
          "base_uri": "https://localhost:8080/"
        },
        "id": "SMYj9B6XWbFG",
        "outputId": "08410c55-811f-47a7-8b17-482b35a615be"
      },
      "execution_count": 119,
      "outputs": [
        {
          "output_type": "execute_result",
          "data": {
            "text/plain": [
              "56.25"
            ]
          },
          "metadata": {},
          "execution_count": 119
        }
      ]
    },
    {
      "cell_type": "code",
      "source": [
        "ser1.median()"
      ],
      "metadata": {
        "colab": {
          "base_uri": "https://localhost:8080/"
        },
        "id": "hWXt4hixWdvv",
        "outputId": "9fe53b6d-76e0-4f92-9d50-e57e803b0a6a"
      },
      "execution_count": 120,
      "outputs": [
        {
          "output_type": "execute_result",
          "data": {
            "text/plain": [
              "52.5"
            ]
          },
          "metadata": {},
          "execution_count": 120
        }
      ]
    },
    {
      "cell_type": "code",
      "source": [
        "ser1.mode()"
      ],
      "metadata": {
        "colab": {
          "base_uri": "https://localhost:8080/"
        },
        "id": "WN677NOHWjDp",
        "outputId": "beeffe22-07fa-4457-de36-75cf33e45595"
      },
      "execution_count": 121,
      "outputs": [
        {
          "output_type": "execute_result",
          "data": {
            "text/plain": [
              "0    30\n",
              "1    45\n",
              "2    60\n",
              "3    90\n",
              "dtype: int64"
            ]
          },
          "metadata": {},
          "execution_count": 121
        }
      ]
    },
    {
      "cell_type": "code",
      "source": [
        "ser1.describe()"
      ],
      "metadata": {
        "colab": {
          "base_uri": "https://localhost:8080/"
        },
        "id": "nDtbC5B8XD44",
        "outputId": "a5299741-7928-4bc2-ab7a-406ad73e3be0"
      },
      "execution_count": 126,
      "outputs": [
        {
          "output_type": "execute_result",
          "data": {
            "text/plain": [
              "count     4.000000\n",
              "mean     56.250000\n",
              "std      25.617377\n",
              "min      30.000000\n",
              "25%      41.250000\n",
              "50%      52.500000\n",
              "75%      67.500000\n",
              "max      90.000000\n",
              "dtype: float64"
            ]
          },
          "metadata": {},
          "execution_count": 126
        }
      ]
    },
    {
      "cell_type": "code",
      "source": [
        "alist = ['ford','accord','chevy','ford','prius','camary','prius']\n",
        "tempSer3 = pd.Series(alist,dtype='category')\n",
        "tempSer3.value_counts()"
      ],
      "metadata": {
        "colab": {
          "base_uri": "https://localhost:8080/"
        },
        "id": "u9x6Nq7eWt-I",
        "outputId": "d80c2e7d-7f43-4860-a69a-b280244ee6e4"
      },
      "execution_count": 124,
      "outputs": [
        {
          "output_type": "execute_result",
          "data": {
            "text/plain": [
              "prius     2\n",
              "ford      2\n",
              "chevy     1\n",
              "camary    1\n",
              "accord    1\n",
              "dtype: int64"
            ]
          },
          "metadata": {},
          "execution_count": 124
        }
      ]
    },
    {
      "cell_type": "code",
      "source": [
        "tempSer3.describe()"
      ],
      "metadata": {
        "colab": {
          "base_uri": "https://localhost:8080/"
        },
        "id": "6cFSqEbzW9F1",
        "outputId": "7877c509-f7f4-4ffe-86b0-2d8acf2efea1"
      },
      "execution_count": 125,
      "outputs": [
        {
          "output_type": "execute_result",
          "data": {
            "text/plain": [
              "count         7\n",
              "unique        5\n",
              "top       prius\n",
              "freq          2\n",
              "dtype: object"
            ]
          },
          "metadata": {},
          "execution_count": 125
        }
      ]
    },
    {
      "cell_type": "code",
      "source": [
        "ser5 = tempSer3.describe()\n",
        "ser5.top"
      ],
      "metadata": {
        "colab": {
          "base_uri": "https://localhost:8080/",
          "height": 36
        },
        "id": "vOmhNWh8XMCv",
        "outputId": "29e33ac2-3686-4639-a9a3-576457d33400"
      },
      "execution_count": 128,
      "outputs": [
        {
          "output_type": "execute_result",
          "data": {
            "application/vnd.google.colaboratory.intrinsic+json": {
              "type": "string"
            },
            "text/plain": [
              "'prius'"
            ]
          },
          "metadata": {},
          "execution_count": 128
        }
      ]
    },
    {
      "cell_type": "markdown",
      "source": [
        "# Duplicates"
      ],
      "metadata": {
        "id": "F8U8qZ9pX2UM"
      }
    },
    {
      "cell_type": "code",
      "source": [
        "alist = ['ford','accord','chevy','ford','prius','camary','prius']\n",
        "tempSer6 = pd.Series(alist,name='Cars')\n",
        "tempSer6"
      ],
      "metadata": {
        "colab": {
          "base_uri": "https://localhost:8080/"
        },
        "id": "UJ65Ct67X5m6",
        "outputId": "01cadc2e-d65f-43ba-e511-dd0c33e84a6b"
      },
      "execution_count": 130,
      "outputs": [
        {
          "output_type": "execute_result",
          "data": {
            "text/plain": [
              "0      ford\n",
              "1    accord\n",
              "2     chevy\n",
              "3      ford\n",
              "4     prius\n",
              "5    camary\n",
              "6     prius\n",
              "Name: Cars, dtype: object"
            ]
          },
          "metadata": {},
          "execution_count": 130
        }
      ]
    },
    {
      "cell_type": "code",
      "source": [
        "tempSer6.duplicated()"
      ],
      "metadata": {
        "colab": {
          "base_uri": "https://localhost:8080/"
        },
        "id": "pYxhg7EWYFF_",
        "outputId": "8526fd56-c378-4470-cf16-ae2d8f9a3901"
      },
      "execution_count": 131,
      "outputs": [
        {
          "output_type": "execute_result",
          "data": {
            "text/plain": [
              "0    False\n",
              "1    False\n",
              "2    False\n",
              "3     True\n",
              "4    False\n",
              "5    False\n",
              "6     True\n",
              "Name: Cars, dtype: bool"
            ]
          },
          "metadata": {},
          "execution_count": 131
        }
      ]
    },
    {
      "cell_type": "code",
      "source": [
        "tempSer6.duplicated().any()"
      ],
      "metadata": {
        "colab": {
          "base_uri": "https://localhost:8080/"
        },
        "id": "EHhEc9ApYINB",
        "outputId": "ac1ac994-08eb-4c01-c139-114e3572a2ec"
      },
      "execution_count": 132,
      "outputs": [
        {
          "output_type": "execute_result",
          "data": {
            "text/plain": [
              "True"
            ]
          },
          "metadata": {},
          "execution_count": 132
        }
      ]
    },
    {
      "cell_type": "code",
      "source": [
        "tempSer6.duplicated().all()"
      ],
      "metadata": {
        "colab": {
          "base_uri": "https://localhost:8080/"
        },
        "id": "gRL6iS-wYLXS",
        "outputId": "85ebd12a-269f-48d4-d85c-3a58a1da9608"
      },
      "execution_count": 133,
      "outputs": [
        {
          "output_type": "execute_result",
          "data": {
            "text/plain": [
              "False"
            ]
          },
          "metadata": {},
          "execution_count": 133
        }
      ]
    },
    {
      "cell_type": "code",
      "source": [
        "print(f\"tempSer6 : \\n {tempSer6} \\n\")\n",
        "mask = tempSer6.duplicated(keep=False)   # list of duplicates\n",
        "print(f\"Mask : \\n {mask} \\n\")\n",
        "print(f\"unique list of items : \\n {tempSer6[~mask]} \\n\")               # items that dont repeat. \n",
        "print(f\"duplicated ones are : \\n {tempSer6[mask]}\")                 # items that repeat\n"
      ],
      "metadata": {
        "colab": {
          "base_uri": "https://localhost:8080/"
        },
        "id": "l0lrZk-3YOB3",
        "outputId": "e5a3d1eb-5f53-40ea-f00c-acfb4c7869fe"
      },
      "execution_count": 153,
      "outputs": [
        {
          "output_type": "stream",
          "name": "stdout",
          "text": [
            "tempSer6 : \n",
            " 0      ford\n",
            "1    accord\n",
            "2     chevy\n",
            "3      ford\n",
            "4     prius\n",
            "5    camary\n",
            "6     prius\n",
            "Name: Cars, dtype: object \n",
            "\n",
            "Mask : \n",
            " 0     True\n",
            "1    False\n",
            "2    False\n",
            "3     True\n",
            "4     True\n",
            "5    False\n",
            "6     True\n",
            "Name: Cars, dtype: bool \n",
            "\n",
            "unique list of items : \n",
            " 1    accord\n",
            "2     chevy\n",
            "5    camary\n",
            "Name: Cars, dtype: object \n",
            "\n",
            "duplicated ones are : \n",
            " 0     ford\n",
            "3     ford\n",
            "4    prius\n",
            "6    prius\n",
            "Name: Cars, dtype: object\n"
          ]
        }
      ]
    },
    {
      "cell_type": "code",
      "source": [
        "print(tempSer6)\n",
        "tempSer7 = tempSer6.drop_duplicates(keep=False)\n",
        "tempSer7"
      ],
      "metadata": {
        "colab": {
          "base_uri": "https://localhost:8080/"
        },
        "id": "fi7cEVy1b6SQ",
        "outputId": "31fd838d-1457-478c-e219-44596c9d8316"
      },
      "execution_count": 159,
      "outputs": [
        {
          "output_type": "stream",
          "name": "stdout",
          "text": [
            "0      ford\n",
            "1    accord\n",
            "2     chevy\n",
            "3      ford\n",
            "4     prius\n",
            "5    camary\n",
            "6     prius\n",
            "Name: Cars, dtype: object\n"
          ]
        },
        {
          "output_type": "execute_result",
          "data": {
            "text/plain": [
              "1    accord\n",
              "2     chevy\n",
              "5    camary\n",
              "Name: Cars, dtype: object"
            ]
          },
          "metadata": {},
          "execution_count": 159
        }
      ]
    }
  ]
}